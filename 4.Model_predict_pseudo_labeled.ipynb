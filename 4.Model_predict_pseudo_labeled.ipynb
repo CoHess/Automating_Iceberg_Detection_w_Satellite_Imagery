{
 "cells": [
  {
   "cell_type": "markdown",
   "metadata": {},
   "source": [
    "----\n",
    "## VGG16 Training - Pseudo Labeled Data Input"
   ]
  },
  {
   "cell_type": "code",
   "execution_count": 2,
   "metadata": {
    "collapsed": false
   },
   "outputs": [
    {
     "name": "stderr",
     "output_type": "stream",
     "text": [
      "Using TensorFlow backend.\n"
     ]
    }
   ],
   "source": [
    "import numpy as np\n",
    "import pandas as pd\n",
    "from subprocess import check_output\n",
    "import seaborn as sns\n",
    "from os.path import join as opj\n",
    "from matplotlib import pyplot as plt\n",
    "from mpl_toolkits.mplot3d import Axes3D\n",
    "import pylab\n",
    "import pickle\n",
    "import itertools\n",
    "from itertools import product\n",
    "\n",
    "from sklearn.metrics import accuracy_score\n",
    "from sklearn.metrics import roc_curve\n",
    "from sklearn.metrics import roc_auc_score\n",
    "from sklearn.model_selection import train_test_split\n",
    "from sklearn.metrics import log_loss\n",
    "from sklearn.model_selection import StratifiedKFold, StratifiedShuffleSplit\n",
    "from sklearn.metrics import confusion_matrix\n",
    "\n",
    "\n",
    "from keras.models import load_model\n",
    "from keras import optimizers\n",
    "from keras.layers import Dropout\n",
    "from keras.utils import to_categorical\n",
    "from keras.models import load_model\n",
    "from keras.optimizers import RMSprop\n",
    "from keras.preprocessing.image import ImageDataGenerator\n",
    "from keras.models import Sequential\n",
    "from keras.layers import Conv2D, MaxPooling2D, Activation\n",
    "from keras.layers import GlobalMaxPooling2D\n",
    "from keras.layers.normalization import BatchNormalization\n",
    "from keras.layers.merge import Concatenate\n",
    "from keras.models import Model\n",
    "from keras import initializers\n",
    "from keras.optimizers import Adam\n",
    "from keras.layers.advanced_activations import LeakyReLU, PReLU\n",
    "from keras.optimizers import SGD\n",
    "from keras.callbacks import ModelCheckpoint, Callback, EarlyStopping\n",
    "from keras.datasets import cifar10\n",
    "from keras.applications.vgg16 import VGG16\n",
    "from keras.applications.vgg19 import VGG19\n",
    "from keras.layers import Concatenate, Dense, LSTM, Input, concatenate\n",
    "from keras.preprocessing import image\n",
    "from keras.applications.vgg16 import preprocess_input\n",
    "from keras.layers import (AveragePooling2D, Convolution2D, Dense, Dropout,\n",
    "    Flatten, Input, MaxPooling2D, ZeroPadding2D)\n",
    "from keras.models import Model, Sequential\n",
    "from keras.preprocessing.image import ImageDataGenerator\n",
    "\n",
    "\n",
    "import warnings\n",
    "warnings.filterwarnings('ignore')\n",
    "plt.rcParams['figure.figsize'] = 10, 10\n",
    "%matplotlib inline"
   ]
  },
  {
   "cell_type": "code",
   "execution_count": 3,
   "metadata": {
    "collapsed": true
   },
   "outputs": [],
   "source": [
    "# Adjust defaults for seaborn\n",
    "sns.set_style({'axes.axisbelow': True,\n",
    " 'axes.edgecolor': 'white',\n",
    " 'axes.facecolor': '#EAEAF2',\n",
    " 'axes.grid': False,\n",
    " 'axes.labelcolor': '.15',\n",
    " 'axes.linewidth': 0.0,\n",
    " 'figure.facecolor': (0, 0, 0, 0),\n",
    " 'font.family': ['sans-serif'],\n",
    " 'font.sans-serif': ['sans-serif',\n",
    "  'Bitstream Vera Sans',\n",
    "  'Bitstream Vera Sans',\n",
    "  'Liberation Sans'],\n",
    " 'grid.color': 'white',\n",
    " 'grid.linestyle': '-',\n",
    " 'image.cmap': 'Greys',\n",
    " 'legend.frameon': False,\n",
    " 'legend.numpoints': 1,\n",
    " 'legend.scatterpoints': 1,\n",
    " 'lines.solid_capstyle': 'round',\n",
    " 'text.color': '.15',\n",
    " 'xtick.color': '.15',\n",
    " 'xtick.direction': 'out',\n",
    " 'xtick.major.size': 0.0,\n",
    " 'xtick.minor.size': 0.0,\n",
    " 'ytick.color': '.15',\n",
    " 'ytick.direction': 'out',\n",
    " 'ytick.major.size': 0.0,\n",
    " 'ytick.minor.size': 0.0})"
   ]
  },
  {
   "cell_type": "code",
   "execution_count": 4,
   "metadata": {
    "collapsed": false
   },
   "outputs": [
    {
     "data": {
      "text/plain": [
       "(4804, 75, 75, 3)"
      ]
     },
     "execution_count": 4,
     "metadata": {},
     "output_type": "execute_result"
    }
   ],
   "source": [
    "HH_HV_Com_Pseudo = pickle.load(open('test_train/HH_HV_Com_Pseudo_vgg16_Dec5.p', 'rb'))\n",
    "y_Pseudo = pickle.load(open('test_train/y_Pseudo_vgg16_Dec5.p', 'rb'))\n",
    "y = to_categorical(y_Pseudo)\n",
    "HH_HV_Com_Pseudo.shape"
   ]
  },
  {
   "cell_type": "markdown",
   "metadata": {
    "collapsed": false
   },
   "source": [
    "### VGG16 Slightly Modified Architecture\n",
    "Same architecture for notebook VGG_First_Pass <br>\n",
    "\n",
    "Input now includes Pseudo labeled data <br>\n",
    "\n",
    "Includes dropout and one fold image augmentation"
   ]
  },
  {
   "cell_type": "code",
   "execution_count": 6,
   "metadata": {
    "collapsed": false
   },
   "outputs": [],
   "source": [
    "batch_size = 96\n",
    "\n",
    "# Define the image transformations here\n",
    "gen = ImageDataGenerator(horizontal_flip = False,\n",
    "                         vertical_flip = False,\n",
    "                         width_shift_range = 0.,\n",
    "                         height_shift_range = 0.,\n",
    "                         channel_shift_range=0,\n",
    "                         zoom_range = 0.2,\n",
    "                         rotation_range = 40,\n",
    "                        fill_mode = 'wrap')\n",
    "\n",
    "def Model():\n",
    "    vgg_model = Sequential()\n",
    "    vgg_model.add(Convolution2D(64, 3, 3, activation='relu', input_shape=(75,75,3), border_mode='same', name='conv1_1'))\n",
    "    vgg_model.add(ZeroPadding2D((1, 1), name='conv1_1_zp'))\n",
    "    vgg_model.add(Convolution2D(64, 3, 3, activation='relu', name='conv1_2'))\n",
    "    vgg_model.add(MaxPooling2D((2, 2), strides=(2, 2), name='pool1'))\n",
    "\n",
    "    vgg_model.add(ZeroPadding2D((1, 1), name='pool1_zp'))\n",
    "    vgg_model.add(Convolution2D(128, 3, 3, activation='relu', name='conv2_1'))\n",
    "    vgg_model.add(ZeroPadding2D((1, 1), name='conv2_1_zp'))\n",
    "    vgg_model.add(Convolution2D(128, 3, 3, activation='relu', name='conv2_2'))\n",
    "    vgg_model.add(MaxPooling2D((2, 2), strides=(2, 2), name='pool2'))\n",
    "\n",
    "    vgg_model.add(ZeroPadding2D((1, 1), name='pool2_zp'))\n",
    "    vgg_model.add(Convolution2D(256, 3, 3, activation='relu', name='conv3_1'))\n",
    "    vgg_model.add(ZeroPadding2D((1, 1), name='conv3_1_zp'))\n",
    "    vgg_model.add(Convolution2D(256, 3, 3, activation='relu', name='conv3_2'))\n",
    "    vgg_model.add(ZeroPadding2D((1, 1), name='conv3_2_zp'))\n",
    "    vgg_model.add(Convolution2D(256, 3, 3, activation='relu', name='conv3_3'))\n",
    "    vgg_model.add(MaxPooling2D((2, 2), strides=(2, 2), name='pool3'))\n",
    "\n",
    "    vgg_model.add(ZeroPadding2D((1, 1), name='conv4_1_zp'))\n",
    "    vgg_model.add(Convolution2D(512, 3, 3, activation='relu', name='conv4_2'))\n",
    "    vgg_model.add(ZeroPadding2D((1, 1), name='conv4_2_zp'))\n",
    "    vgg_model.add(Convolution2D(512, 3, 3, activation='relu', name='conv4_3'))\n",
    "    vgg_model.add(MaxPooling2D((2, 2), strides=(2, 2), name='pool4'))\n",
    "\n",
    "    vgg_model.add(ZeroPadding2D((1, 1), name='pool4_zp'))\n",
    "    vgg_model.add(Convolution2D(512, 3, 3, activation='relu', name='conv5_1'))\n",
    "    vgg_model.add(ZeroPadding2D((1, 1), name='conv5_1_zp'))\n",
    "    vgg_model.add(Convolution2D(512, 3, 3, activation='relu', name='conv5_2'))\n",
    "    vgg_model.add(ZeroPadding2D((1, 1), name='conv5_2_zp'))\n",
    "    vgg_model.add(Convolution2D(512, 3, 3, activation='relu', name='conv5_3'))\n",
    "    vgg_model.add(MaxPooling2D((2, 2), strides=(2, 2), name='pool5'))\n",
    "\n",
    "    vgg_model.add(Flatten())\n",
    "    vgg_model.add(Dense(4096, activation='relu', name='fc6'))\n",
    "    vgg_model.add(Dropout(0.1, name='fc6do'))\n",
    "    vgg_model.add(Dense(4096, activation='relu', name='fc7'))\n",
    "    vgg_model.add(Dropout(0.1, name='fc7do'))\n",
    "    vgg_model.add(Dense(2, activation='softmax', name='predictions'))\n",
    "    vgg_model.summary();\n",
    "    \n",
    "    adam = optimizers.adam(lr=.0001)\n",
    "    vgg_model.compile(optimizer=adam,\n",
    "    loss='binary_crossentropy', metrics=['accuracy'])\n",
    "    \n",
    "    return vgg_model\n",
    "\n",
    "def train_model(X_train, X_test, y_train, y_test):\n",
    "    \n",
    "    gen_flow = gen.flow(X_train,y_train,batch_size=batch_size,seed=42)\n",
    "    vgg16_pseudo_Model= Model()\n",
    "    vgg16_pseudo_Model.fit_generator(\n",
    "            gen_flow,\n",
    "            steps_per_epoch=12,\n",
    "            epochs=40,\n",
    "            shuffle=True,\n",
    "            verbose=1,\n",
    "            validation_data=(X_test, y_test))\n",
    "    global vgg16_pseudo_Model\n",
    "    \n",
    "def continue_training(X_train, X_test, y_train, y_test):\n",
    "    \n",
    "    model = load_model('models/vgg16_pseudo_labeled.h5')\n",
    "    gen_flow = gen.flow(X_train,y_train,batch_size=batch_size,seed=42)\n",
    "    vgg16_pseudo_Model = model\n",
    "    vgg16_pseudo_Model.fit_generator(\n",
    "            gen_flow,\n",
    "            steps_per_epoch=12,\n",
    "            epochs=2,\n",
    "            shuffle=True,\n",
    "            verbose=1,\n",
    "            validation_data=(X_test, y_test))\n",
    "    global vgg16_pseudo_Model"
   ]
  },
  {
   "cell_type": "code",
   "execution_count": 7,
   "metadata": {
    "collapsed": false
   },
   "outputs": [],
   "source": [
    "X_train, X_test, y_train, y_test = train_test_split(\n",
    "    HH_HV_Com_Pseudo, y, test_size=0.20, random_state=42)"
   ]
  },
  {
   "cell_type": "code",
   "execution_count": 7,
   "metadata": {
    "collapsed": false
   },
   "outputs": [
    {
     "name": "stdout",
     "output_type": "stream",
     "text": [
      "_________________________________________________________________\n",
      "Layer (type)                 Output Shape              Param #   \n",
      "=================================================================\n",
      "conv1_1 (Conv2D)             (None, 75, 75, 64)        1792      \n",
      "_________________________________________________________________\n",
      "conv1_1_zp (ZeroPadding2D)   (None, 77, 77, 64)        0         \n",
      "_________________________________________________________________\n",
      "conv1_2 (Conv2D)             (None, 75, 75, 64)        36928     \n",
      "_________________________________________________________________\n",
      "pool1 (MaxPooling2D)         (None, 37, 37, 64)        0         \n",
      "_________________________________________________________________\n",
      "pool1_zp (ZeroPadding2D)     (None, 39, 39, 64)        0         \n",
      "_________________________________________________________________\n",
      "conv2_1 (Conv2D)             (None, 37, 37, 128)       73856     \n",
      "_________________________________________________________________\n",
      "conv2_1_zp (ZeroPadding2D)   (None, 39, 39, 128)       0         \n",
      "_________________________________________________________________\n",
      "conv2_2 (Conv2D)             (None, 37, 37, 128)       147584    \n",
      "_________________________________________________________________\n",
      "pool2 (MaxPooling2D)         (None, 18, 18, 128)       0         \n",
      "_________________________________________________________________\n",
      "pool2_zp (ZeroPadding2D)     (None, 20, 20, 128)       0         \n",
      "_________________________________________________________________\n",
      "conv3_1 (Conv2D)             (None, 18, 18, 256)       295168    \n",
      "_________________________________________________________________\n",
      "conv3_1_zp (ZeroPadding2D)   (None, 20, 20, 256)       0         \n",
      "_________________________________________________________________\n",
      "conv3_2 (Conv2D)             (None, 18, 18, 256)       590080    \n",
      "_________________________________________________________________\n",
      "conv3_2_zp (ZeroPadding2D)   (None, 20, 20, 256)       0         \n",
      "_________________________________________________________________\n",
      "conv3_3 (Conv2D)             (None, 18, 18, 256)       590080    \n",
      "_________________________________________________________________\n",
      "pool3 (MaxPooling2D)         (None, 9, 9, 256)         0         \n",
      "_________________________________________________________________\n",
      "conv4_1_zp (ZeroPadding2D)   (None, 11, 11, 256)       0         \n",
      "_________________________________________________________________\n",
      "conv4_2 (Conv2D)             (None, 9, 9, 512)         1180160   \n",
      "_________________________________________________________________\n",
      "conv4_2_zp (ZeroPadding2D)   (None, 11, 11, 512)       0         \n",
      "_________________________________________________________________\n",
      "conv4_3 (Conv2D)             (None, 9, 9, 512)         2359808   \n",
      "_________________________________________________________________\n",
      "pool4 (MaxPooling2D)         (None, 4, 4, 512)         0         \n",
      "_________________________________________________________________\n",
      "pool4_zp (ZeroPadding2D)     (None, 6, 6, 512)         0         \n",
      "_________________________________________________________________\n",
      "conv5_1 (Conv2D)             (None, 4, 4, 512)         2359808   \n",
      "_________________________________________________________________\n",
      "conv5_1_zp (ZeroPadding2D)   (None, 6, 6, 512)         0         \n",
      "_________________________________________________________________\n",
      "conv5_2 (Conv2D)             (None, 4, 4, 512)         2359808   \n",
      "_________________________________________________________________\n",
      "conv5_2_zp (ZeroPadding2D)   (None, 6, 6, 512)         0         \n",
      "_________________________________________________________________\n",
      "conv5_3 (Conv2D)             (None, 4, 4, 512)         2359808   \n",
      "_________________________________________________________________\n",
      "pool5 (MaxPooling2D)         (None, 2, 2, 512)         0         \n",
      "_________________________________________________________________\n",
      "flatten_1 (Flatten)          (None, 2048)              0         \n",
      "_________________________________________________________________\n",
      "fc6 (Dense)                  (None, 4096)              8392704   \n",
      "_________________________________________________________________\n",
      "fc6do (Dropout)              (None, 4096)              0         \n",
      "_________________________________________________________________\n",
      "fc7 (Dense)                  (None, 4096)              16781312  \n",
      "_________________________________________________________________\n",
      "fc7do (Dropout)              (None, 4096)              0         \n",
      "_________________________________________________________________\n",
      "predictions (Dense)          (None, 2)                 8194      \n",
      "=================================================================\n",
      "Total params: 37,537,090\n",
      "Trainable params: 37,537,090\n",
      "Non-trainable params: 0\n",
      "_________________________________________________________________\n",
      "Epoch 1/40\n",
      "41/12 [======================================================================================================] - 233s 6s/step - loss: 0.6293 - acc: 0.6436 - val_loss: 0.5283 - val_acc: 0.7305\n",
      "Epoch 2/40\n",
      "41/12 [======================================================================================================] - 228s 6s/step - loss: 0.3604 - acc: 0.8632 - val_loss: 0.2682 - val_acc: 0.9116\n",
      "Epoch 3/40\n",
      "41/12 [======================================================================================================] - 231s 6s/step - loss: 0.2515 - acc: 0.9056 - val_loss: 0.1874 - val_acc: 0.9417\n",
      "Epoch 4/40\n",
      "41/12 [======================================================================================================] - 231s 6s/step - loss: 0.2067 - acc: 0.9193 - val_loss: 0.1927 - val_acc: 0.9355\n",
      "Epoch 5/40\n",
      "41/12 [======================================================================================================] - 229s 6s/step - loss: 0.1980 - acc: 0.9245 - val_loss: 0.1709 - val_acc: 0.9490\n",
      "Epoch 6/40\n",
      "41/12 [======================================================================================================] - 235s 6s/step - loss: 0.1669 - acc: 0.9369 - val_loss: 0.1349 - val_acc: 0.9417\n",
      "Epoch 7/40\n",
      "41/12 [======================================================================================================] - 230s 6s/step - loss: 0.1429 - acc: 0.9432 - val_loss: 0.1487 - val_acc: 0.9448\n",
      "Epoch 8/40\n",
      "41/12 [======================================================================================================] - 236s 6s/step - loss: 0.1595 - acc: 0.9407 - val_loss: 0.1542 - val_acc: 0.9438\n",
      "Epoch 9/40\n",
      "41/12 [======================================================================================================] - 235s 6s/step - loss: 0.1295 - acc: 0.9520 - val_loss: 0.1349 - val_acc: 0.9417\n",
      "Epoch 10/40\n",
      "41/12 [======================================================================================================] - 231s 6s/step - loss: 0.1416 - acc: 0.9419 - val_loss: 0.1270 - val_acc: 0.9480\n",
      "Epoch 11/40\n",
      "41/12 [======================================================================================================] - 229s 6s/step - loss: 0.1379 - acc: 0.9440 - val_loss: 0.1202 - val_acc: 0.9521\n",
      "Epoch 12/40\n",
      "41/12 [======================================================================================================] - 229s 6s/step - loss: 0.1255 - acc: 0.9544 - val_loss: 0.1153 - val_acc: 0.9501\n",
      "Epoch 13/40\n",
      "41/12 [======================================================================================================] - 230s 6s/step - loss: 0.1224 - acc: 0.9446 - val_loss: 0.1930 - val_acc: 0.9199\n",
      "Epoch 14/40\n",
      "41/12 [======================================================================================================] - 229s 6s/step - loss: 0.1323 - acc: 0.9495 - val_loss: 0.1368 - val_acc: 0.9428\n",
      "Epoch 15/40\n",
      "41/12 [======================================================================================================] - 231s 6s/step - loss: 0.1195 - acc: 0.9469 - val_loss: 0.1204 - val_acc: 0.9501\n",
      "Epoch 16/40\n",
      "41/12 [======================================================================================================] - 232s 6s/step - loss: 0.1226 - acc: 0.9503 - val_loss: 0.1395 - val_acc: 0.9490\n",
      "Epoch 17/40\n",
      "41/12 [======================================================================================================] - 236s 6s/step - loss: 0.1601 - acc: 0.9391 - val_loss: 0.1279 - val_acc: 0.9459\n",
      "Epoch 18/40\n",
      "41/12 [======================================================================================================] - 235s 6s/step - loss: 0.1091 - acc: 0.9545 - val_loss: 0.1282 - val_acc: 0.9490\n",
      "Epoch 19/40\n",
      "41/12 [======================================================================================================] - 232s 6s/step - loss: 0.0981 - acc: 0.9630 - val_loss: 0.1169 - val_acc: 0.9490\n",
      "Epoch 20/40\n",
      "41/12 [======================================================================================================] - 232s 6s/step - loss: 0.1605 - acc: 0.9464 - val_loss: 0.1340 - val_acc: 0.9480\n",
      "Epoch 21/40\n",
      "41/12 [======================================================================================================] - 234s 6s/step - loss: 0.1110 - acc: 0.9560 - val_loss: 0.1112 - val_acc: 0.9511\n",
      "Epoch 22/40\n",
      "41/12 [======================================================================================================] - 234s 6s/step - loss: 0.1054 - acc: 0.9613 - val_loss: 0.1379 - val_acc: 0.9490\n",
      "Epoch 23/40\n",
      "41/12 [======================================================================================================] - 237s 6s/step - loss: 0.1674 - acc: 0.9282 - val_loss: 0.1070 - val_acc: 0.9542\n",
      "Epoch 24/40\n",
      "41/12 [======================================================================================================] - 234s 6s/step - loss: 0.1184 - acc: 0.9565 - val_loss: 0.1112 - val_acc: 0.9511\n",
      "Epoch 25/40\n",
      "41/12 [======================================================================================================] - 235s 6s/step - loss: 0.1035 - acc: 0.9586 - val_loss: 0.1015 - val_acc: 0.9563\n",
      "Epoch 26/40\n",
      "41/12 [======================================================================================================] - 234s 6s/step - loss: 0.1036 - acc: 0.9580 - val_loss: 0.1166 - val_acc: 0.9490\n",
      "Epoch 27/40\n",
      "41/12 [======================================================================================================] - 234s 6s/step - loss: 0.1077 - acc: 0.9544 - val_loss: 0.1145 - val_acc: 0.9573\n",
      "Epoch 28/40\n",
      "41/12 [======================================================================================================] - 232s 6s/step - loss: 0.0940 - acc: 0.9597 - val_loss: 0.1405 - val_acc: 0.9563\n",
      "Epoch 29/40\n",
      "41/12 [======================================================================================================] - 233s 6s/step - loss: 0.0999 - acc: 0.9614 - val_loss: 0.1061 - val_acc: 0.9563\n",
      "Epoch 30/40\n",
      "41/12 [======================================================================================================] - 235s 6s/step - loss: 0.0988 - acc: 0.9579 - val_loss: 0.1189 - val_acc: 0.9501\n",
      "Epoch 31/40\n",
      "41/12 [======================================================================================================] - 235s 6s/step - loss: 0.1193 - acc: 0.9546 - val_loss: 0.1134 - val_acc: 0.9532\n",
      "Epoch 32/40\n",
      "41/12 [======================================================================================================] - 232s 6s/step - loss: 0.0928 - acc: 0.9654 - val_loss: 0.1167 - val_acc: 0.9521\n",
      "Epoch 33/40\n",
      "41/12 [======================================================================================================] - 235s 6s/step - loss: 0.1099 - acc: 0.9565 - val_loss: 0.1133 - val_acc: 0.9521\n",
      "Epoch 34/40\n",
      "41/12 [======================================================================================================] - 236s 6s/step - loss: 0.0927 - acc: 0.9618 - val_loss: 0.1155 - val_acc: 0.9501\n",
      "Epoch 35/40\n",
      "41/12 [======================================================================================================] - 234s 6s/step - loss: 0.0923 - acc: 0.9625 - val_loss: 0.1232 - val_acc: 0.9511\n",
      "Epoch 36/40\n",
      "41/12 [======================================================================================================] - 235s 6s/step - loss: 0.0997 - acc: 0.9533 - val_loss: 0.1170 - val_acc: 0.9490\n",
      "Epoch 37/40\n",
      "41/12 [======================================================================================================] - 235s 6s/step - loss: 0.1106 - acc: 0.9545 - val_loss: 0.1204 - val_acc: 0.9521\n",
      "Epoch 38/40\n",
      "41/12 [======================================================================================================] - 234s 6s/step - loss: 0.1061 - acc: 0.9652 - val_loss: 0.1330 - val_acc: 0.9490\n",
      "Epoch 39/40\n",
      "41/12 [======================================================================================================] - 235s 6s/step - loss: 0.0925 - acc: 0.9605 - val_loss: 0.1139 - val_acc: 0.9563\n",
      "Epoch 40/40\n",
      "41/12 [======================================================================================================] - 234s 6s/step - loss: 0.0891 - acc: 0.9718 - val_loss: 0.1015 - val_acc: 0.9553\n"
     ]
    }
   ],
   "source": [
    "train_model(X_train, X_test, y_train, y_test)"
   ]
  },
  {
   "cell_type": "code",
   "execution_count": 12,
   "metadata": {
    "collapsed": false
   },
   "outputs": [],
   "source": [
    "vgg16_pseudo_Model.save('models/vgg16_pseudo_labeled.h5')"
   ]
  },
  {
   "cell_type": "code",
   "execution_count": 8,
   "metadata": {
    "collapsed": false
   },
   "outputs": [
    {
     "name": "stdout",
     "output_type": "stream",
     "text": [
      "Epoch 1/2\n",
      "41/12 [======================================================================================================] - 234s 6s/step - loss: 0.0920 - acc: 0.9629 - val_loss: 0.1063 - val_acc: 0.9584\n",
      "Epoch 2/2\n",
      "41/12 [======================================================================================================] - 231s 6s/step - loss: 0.0915 - acc: 0.9614 - val_loss: 0.1168 - val_acc: 0.9532\n"
     ]
    }
   ],
   "source": [
    "continue_training(X_train, X_test, y_train, y_test)"
   ]
  },
  {
   "cell_type": "markdown",
   "metadata": {},
   "source": [
    "### Model Evaluation"
   ]
  },
  {
   "cell_type": "markdown",
   "metadata": {},
   "source": [
    "This section shows the evaluation metrics. For this section metrics are shows for the testing set from the pseudo labeled dataset and the testing set from the original labeled dataset. ROC curve and confusion matrix are only for the original labeled dataset."
   ]
  },
  {
   "cell_type": "code",
   "execution_count": 9,
   "metadata": {
    "collapsed": false
   },
   "outputs": [],
   "source": [
    "test_metric_X = pickle.load(open(\"test_train/test_metric_X.p\", \"rb\"))\n",
    "test_metric_Y = pickle.load(open(\"test_train/test_metric_Y.p\", \"rb\"))\n",
    "\n",
    "train_metric_X = pickle.load(open(\"test_train/X_train_metric.p\", \"rb\"))\n",
    "train_metric_Y = pickle.load(open(\"test_train/y_train_metric.p\", \"rb\"))\n",
    "\n",
    "metric_X = np.concatenate((test_metric_X,train_metric_X), axis=0)\n",
    "metric_Y = np.concatenate((test_metric_Y,train_metric_Y), axis=0)"
   ]
  },
  {
   "cell_type": "code",
   "execution_count": 11,
   "metadata": {
    "collapsed": false
   },
   "outputs": [],
   "source": [
    "vgg16_pseudo_Model = load_model('models/vgg16_pseudo_labeled.h5')"
   ]
  },
  {
   "cell_type": "code",
   "execution_count": 11,
   "metadata": {
    "collapsed": false
   },
   "outputs": [
    {
     "name": "stdout",
     "output_type": "stream",
     "text": [
      "log_loss 0.313533629289\n",
      "accuracy_model 0.870206489676\n",
      "log_loss_psuedo 0.196293995934\n",
      "accuracy_pseudo_model 0.905236907731\n"
     ]
    }
   ],
   "source": [
    "# Test data only from training dataset\n",
    "print('log_loss ' + str(log_loss(test_metric_Y,vgg16_pseudo_Model.predict(test_metric_X))))\n",
    "test_metric_Y_1d = [x[1] for x in test_metric_Y]\n",
    "print('accuracy_model ' + str(accuracy_score(test_metric_Y_1d, vgg16_pseudo_Model.predict_classes(test_metric_X))))\n",
    "\n",
    "# Test data from training and pseudo labeled validation set\n",
    "print('log_loss_Pseudo ' + str(log_loss(metric_Y,vgg16_pseudo_Model.predict(metric_X))))\n",
    "metric_Y_1d = [x[1] for x in metric_Y]\n",
    "print('accuracy_pseudo_model ' + str(accuracy_score(metric_Y_1d, vgg16_pseudo_Model.predict_classes(metric_X))))"
   ]
  },
  {
   "cell_type": "code",
   "execution_count": 59,
   "metadata": {
    "collapsed": false
   },
   "outputs": [],
   "source": [
    "df_roc_curve_test = pd.DataFrame(np.stack((curve_dat[0], curve_dat[1]), axis=1))\n",
    "df_roc_curve_test.to_csv('roc_curve.csv')"
   ]
  },
  {
   "cell_type": "code",
   "execution_count": 14,
   "metadata": {
    "collapsed": false
   },
   "outputs": [
    {
     "name": "stdout",
     "output_type": "stream",
     "text": [
      "auc score 0.955204031637\n"
     ]
    },
    {
     "data": {
      "image/png": "[encoded data removed]",
      "text/plain": [
       "<matplotlib.figure.Figure at 0x7f7c400f30b8>"
      ]
     },
     "metadata": {},
     "output_type": "display_data"
    }
   ],
   "source": [
    "# ROC curve for testing set from orignally labeled dataset\n",
    "fig, ax = plt.subplots(figsize=(10, 10))\n",
    "fig.suptitle('ROC Curve', fontsize=30)\n",
    "ax.plot([0, 1], [0, 1], color='k', linestyle='--', linewidth=1.5)\n",
    "test_metric_X_1d = [x[1] for x in vgg16_pseudo_Model.predict(test_metric_X)]\n",
    "curve_dat = roc_curve(test_metric_Y_1d,test_metric_X_1d)\n",
    "ax.plot(curve_dat[0], curve_dat[1], linewidth=3.0)\n",
    "print('auc score '+ str(roc_auc_score(test_metric_Y_1d,test_metric_X_1d)))\n",
    "\n",
    "ax.axis('equal')\n",
    "ax.set(xlim=[-.02, 1.02], ylim=[-.02, 1.02])\n",
    "ax.legend(loc='best')\n",
    "ax.grid(False)\n",
    "plt.xticks(fontsize=20)\n",
    "plt.yticks(fontsize=20)\n",
    "plt.xlabel('1-Specificity', fontsize=25)\n",
    "plt.ylabel('                  Sensitivity', fontsize=25, verticalalignment='top', position=(-5,1.05), rotation='horizontal')\n",
    "plt.savefig('ROC_curves_full.png')"
   ]
  },
  {
   "cell_type": "code",
   "execution_count": 47,
   "metadata": {
    "collapsed": false
   },
   "outputs": [
    {
     "name": "stdout",
     "output_type": "stream",
     "text": [
      "Confusion matrix, without normalization\n"
     ]
    },
    {
     "data": {
      "image/png": "[encoded data removed]",
      "text/plain": [
       "<matplotlib.figure.Figure at 0x7fbd400bf6a0>"
      ]
     },
     "metadata": {},
     "output_type": "display_data"
    }
   ],
   "source": [
    "# Helper function for confusion matrix for testing set from orignal labeled dataset\n",
    "def plot_confusion_matrix_single(cm, classes,\n",
    "                          normalize=False,\n",
    "                          title='Confusion matrix',\n",
    "                          cmap=plt.cm.Blues):\n",
    "\n",
    "    if normalize:\n",
    "        cm = cm.astype('float') / cm.sum(axis=1)[:, np.newaxis]\n",
    "        print(\"Normalized confusion matrix\")\n",
    "    else:\n",
    "        print('Confusion matrix, without normalization')\n",
    "\n",
    "    plt.imshow(cm, interpolation='nearest', cmap=cmap)\n",
    "    plt.title(title)\n",
    "    plt.colorbar()\n",
    "    tick_marks = np.arange(len(classes))\n",
    "    plt.xticks(tick_marks, classes, rotation=45, fontsize=15)\n",
    "    plt.yticks(tick_marks, classes, fontsize=15)\n",
    "    fmt = '.2f' if normalize else 'd'\n",
    "    thresh = cm.max() / 2.\n",
    "    \n",
    "    for i, j in itertools.product(range(cm.shape[0]), range(cm.shape[1])):\n",
    "        plt.text(j, i, format(cm[i, j], fmt),\n",
    "                 horizontalalignment=\"center\", fontsize=20,\n",
    "                 color=\"white\" if cm[i, j] > thresh else \"black\")\n",
    "\n",
    "    plt.tight_layout()\n",
    "    plt.ylabel('True label', fontsize=20)\n",
    "    plt.xlabel('Predicted label', fontsize=20)\n",
    "    plt.title('Confusion Matrix', fontsize=20)\n",
    "\n",
    "cnf = confusion_matrix(test_metric_Y_1d, vgg16_pseudo_Model.predict_classes(test_metric_X))\n",
    "plt.figure()\n",
    "plot_confusion_matrix_single(cnf, classes=np.array([0, 1]))\n",
    "plt.tight_layout()\n",
    "plt.savefig('confusion_matrix.png')\n",
    "plt.show()"
   ]
  },
  {
   "cell_type": "markdown",
   "metadata": {},
   "source": [
    "### Create submission file for Kaggle competition"
   ]
  },
  {
   "cell_type": "code",
   "execution_count": 15,
   "metadata": {
    "collapsed": true
   },
   "outputs": [],
   "source": [
    "df_validation = pd.read_json('test.json')\n",
    "Valid_75 = pickle.load(open('HH_HV_Com_validation_75.p', 'rb'))\n",
    "vgg_Pseudo_dec5 = load_model('models/my_model_ex_aug_params_dec5-1.h5')"
   ]
  },
  {
   "cell_type": "code",
   "execution_count": 16,
   "metadata": {
    "collapsed": true
   },
   "outputs": [],
   "source": [
    "yproba_vgg_aug_params_dec5_Pseudo = vgg_Pseudo_dec5.predict(Valid_75)[:, 1].astype(float)"
   ]
  },
  {
   "cell_type": "code",
   "execution_count": 19,
   "metadata": {
    "collapsed": true
   },
   "outputs": [],
   "source": [
    "def output_submission(yproba, df_validation):\n",
    "    submission = pd.DataFrame(yproba)\n",
    "    df_submission = pd.concat([pd.DataFrame(df_validation['id']), submission], axis=1)\n",
    "    df_submission = df_submission.rename(columns={0: 'is_iceberg'})\n",
    "    df_submission.to_csv('Pseudo_Label_VGG16.csv', index=False)"
   ]
  },
  {
   "cell_type": "code",
   "execution_count": 20,
   "metadata": {
    "collapsed": false
   },
   "outputs": [],
   "source": [
    "output_submission(yproba_vgg_aug_params_dec5_Pseudo, df_validation)"
   ]
  },
  {
   "cell_type": "code",
   "execution_count": null,
   "metadata": {
    "collapsed": true
   },
   "outputs": [],
   "source": []
  }
 ],
 "metadata": {
  "anaconda-cloud": {},
  "kernelspec": {
   "display_name": "Python [default]",
   "language": "python",
   "name": "python3"
  },
  "language_info": {
   "codemirror_mode": {
    "name": "ipython",
    "version": 3
   },
   "file_extension": ".py",
   "mimetype": "text/x-python",
   "name": "python",
   "nbconvert_exporter": "python",
   "pygments_lexer": "ipython3",
   "version": "3.5.2"
  }
 },
 "nbformat": 4,
 "nbformat_minor": 1
}
